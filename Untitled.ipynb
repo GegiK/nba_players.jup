{
 "cells": [
  {
   "cell_type": "code",
   "execution_count": 1,
   "id": "86612002-a226-47e7-8d8b-496523190cca",
   "metadata": {},
   "outputs": [],
   "source": [
    "import sqlite3\n",
    "import matplotlib\n",
    "\n",
    "conn = sqlite3.connect('all_nba_players.db')\n",
    "cursor = conn.cursor()\n",
    "\n"
   ]
  },
  {
   "cell_type": "code",
   "execution_count": 8,
   "id": "87728e27-b672-45bd-b673-a5a167274fb2",
   "metadata": {},
   "outputs": [
    {
     "name": "stdout",
     "output_type": "stream",
     "text": [
      "(\"Shaquille O'Neal\", 25.0, 26.2, 'LAL', '1996-97')\n",
      "(\"Shaquille O'Neal\", 26.0, 28.3, 'LAL', '1997-98')\n",
      "('Allen Iverson', 24.0, 26.8, 'PHI', '1998-99')\n",
      "(\"Shaquille O'Neal\", 27.0, 26.3, 'LAL', '1998-99')\n",
      "('Vince Carter', 23.0, 25.7, 'TOR', '1999-00')\n",
      "(\"Shaquille O'Neal\", 28.0, 29.7, 'LAL', '1999-00')\n",
      "('Allen Iverson', 25.0, 28.4, 'PHI', '1999-00')\n",
      "('Grant Hill', 27.0, 25.8, 'DET', '1999-00')\n",
      "('Jerry Stackhouse', 26.0, 29.8, 'DET', '2000-01')\n",
      "('Kobe Bryant', 22.0, 28.5, 'LAL', '2000-01')\n",
      "('Allen Iverson', 26.0, 31.1, 'PHI', '2000-01')\n",
      "('Chris Webber', 28.0, 27.1, 'SAC', '2000-01')\n",
      "('Tracy McGrady', 22.0, 26.8, 'ORL', '2000-01')\n",
      "('Vince Carter', 24.0, 27.6, 'TOR', '2000-01')\n",
      "('Paul Pierce', 23.0, 25.3, 'BOS', '2000-01')\n",
      "(\"Shaquille O'Neal\", 29.0, 28.7, 'LAL', '2000-01')\n",
      "('Paul Pierce', 24.0, 26.1, 'BOS', '2001-02')\n",
      "('Tracy McGrady', 23.0, 25.6, 'ORL', '2001-02')\n",
      "('Tim Duncan', 26.0, 25.5, 'SAS', '2001-02')\n",
      "('Kobe Bryant', 23.0, 25.2, 'LAL', '2001-02')\n",
      "('Allen Iverson', 27.0, 31.4, 'PHI', '2001-02')\n",
      "('Paul Pierce', 25.0, 25.9, 'BOS', '2002-03')\n",
      "('Kobe Bryant', 24.0, 30.0, 'LAL', '2002-03')\n",
      "('Tracy McGrady', 24.0, 32.1, 'ORL', '2002-03')\n",
      "('Allen Iverson', 28.0, 27.6, 'PHI', '2002-03')\n",
      "('Dirk Nowitzki', 25.0, 25.1, 'DAL', '2002-03')\n",
      "('Allen Iverson', 29.0, 26.4, 'PHI', '2003-04')\n",
      "('Tracy McGrady', 25.0, 28.0, 'ORL', '2003-04')\n",
      "('Kobe Bryant', 26.0, 27.6, 'LAL', '2004-05')\n",
      "('LeBron James', 20.0, 27.2, 'CLE', '2004-05')\n",
      "('Tracy McGrady', 26.0, 25.7, 'HOU', '2004-05')\n",
      "(\"Amar'e Stoudemire\", 22.0, 26.0, 'PHX', '2004-05')\n",
      "('Dirk Nowitzki', 27.0, 26.1, 'DAL', '2004-05')\n",
      "('Gilbert Arenas', 23.0, 25.5, 'WAS', '2004-05')\n",
      "('LeBron James', 21.0, 31.4, 'CLE', '2005-06')\n",
      "('Kobe Bryant', 27.0, 35.4, 'LAL', '2005-06')\n",
      "('Paul Pierce', 28.0, 26.8, 'BOS', '2005-06')\n",
      "('Michael Redd', 26.0, 25.4, 'MIL', '2005-06')\n",
      "('Carmelo Anthony', 22.0, 26.5, 'DEN', '2005-06')\n",
      "('Dwyane Wade', 24.0, 27.2, 'MIA', '2005-06')\n",
      "('Gilbert Arenas', 24.0, 29.3, 'WAS', '2005-06')\n",
      "('Dirk Nowitzki', 28.0, 26.6, 'DAL', '2005-06')\n",
      "('Carmelo Anthony', 23.0, 28.9, 'DEN', '2006-07')\n",
      "('Michael Redd', 27.0, 26.7, 'MIL', '2006-07')\n",
      "('Gilbert Arenas', 25.0, 28.4, 'WAS', '2006-07')\n",
      "('Dwyane Wade', 25.0, 27.4, 'MIA', '2006-07')\n",
      "('LeBron James', 22.0, 27.3, 'CLE', '2006-07')\n",
      "('Kobe Bryant', 28.0, 31.6, 'LAL', '2006-07')\n",
      "(\"Amar'e Stoudemire\", 25.0, 25.2, 'PHX', '2007-08')\n",
      "('Carmelo Anthony', 24.0, 25.7, 'DEN', '2007-08')\n",
      "('LeBron James', 23.0, 30.0, 'CLE', '2007-08')\n",
      "('Kobe Bryant', 29.0, 28.3, 'LAL', '2007-08')\n",
      "('LeBron James', 24.0, 28.4, 'CLE', '2008-09')\n",
      "('Kevin Durant', 20.0, 25.3, 'OKC', '2008-09')\n",
      "('Danny Granger', 26.0, 25.8, 'IND', '2008-09')\n",
      "('Dwyane Wade', 27.0, 30.2, 'MIA', '2008-09')\n",
      "('Dwyane Wade', 28.0, 26.6, 'MIA', '2009-10')\n",
      "('Carmelo Anthony', 26.0, 28.2, 'DEN', '2009-10')\n",
      "('LeBron James', 25.0, 29.7, 'CLE', '2009-10')\n",
      "('Monta Ellis', 24.0, 25.5, 'GSW', '2009-10')\n",
      "('Kevin Durant', 21.0, 30.1, 'OKC', '2009-10')\n",
      "('Kevin Durant', 22.0, 27.7, 'OKC', '2010-11')\n",
      "('Carmelo Anthony', 27.0, 25.6, 'NYK', '2010-11')\n",
      "('Dwyane Wade', 29.0, 25.5, 'MIA', '2010-11')\n",
      "('LeBron James', 26.0, 26.7, 'MIA', '2010-11')\n",
      "(\"Amar'e Stoudemire\", 28.0, 25.3, 'NYK', '2010-11')\n",
      "('LeBron James', 27.0, 27.1, 'MIA', '2011-12')\n",
      "('Kevin Durant', 23.0, 28.0, 'OKC', '2011-12')\n",
      "('Kevin Love', 23.0, 26.0, 'MIN', '2011-12')\n",
      "('Carmelo Anthony', 29.0, 28.7, 'NYK', '2012-13')\n",
      "('James Harden', 23.0, 25.9, 'HOU', '2012-13')\n",
      "('Kevin Durant', 24.0, 28.1, 'OKC', '2012-13')\n",
      "('LeBron James', 28.0, 26.8, 'MIA', '2012-13')\n",
      "('James Harden', 24.0, 25.4, 'HOU', '2013-14')\n",
      "('LeBron James', 29.0, 27.1, 'MIA', '2013-14')\n",
      "('Kevin Durant', 25.0, 32.0, 'OKC', '2013-14')\n",
      "('Kevin Love', 25.0, 26.1, 'MIN', '2013-14')\n",
      "('Russell Westbrook', 26.0, 28.1, 'OKC', '2014-15')\n",
      "('Kevin Durant', 26.0, 25.4, 'OKC', '2014-15')\n",
      "('James Harden', 25.0, 27.4, 'HOU', '2014-15')\n",
      "('James Harden', 26.0, 29.0, 'HOU', '2015-16')\n",
      "('Damian Lillard', 25.0, 25.1, 'POR', '2015-16')\n",
      "('DeMarcus Cousins', 25.0, 26.9, 'SAC', '2015-16')\n",
      "('Stephen Curry', 28.0, 30.1, 'GSW', '2015-16')\n",
      "('Kevin Durant', 27.0, 28.2, 'OKC', '2015-16')\n",
      "('Kevin Durant', 28.0, 25.1, 'GSW', '2016-17')\n",
      "('Kawhi Leonard', 26.0, 25.5, 'SAS', '2016-17')\n",
      "('Karl-Anthony Towns', 21.0, 25.1, 'MIN', '2016-17')\n",
      "('Kyrie Irving', 25.0, 25.2, 'CLE', '2016-17')\n",
      "('Stephen Curry', 29.0, 25.3, 'GSW', '2016-17')\n",
      "('Russell Westbrook', 28.0, 31.6, 'OKC', '2016-17')\n",
      "('Damian Lillard', 26.0, 27.0, 'POR', '2016-17')\n",
      "('DeMarcus Cousins', 26.0, 27.0, 'NOP', '2016-17')\n",
      "('DeMar DeRozan', 27.0, 27.3, 'TOR', '2016-17')\n",
      "('Anthony Davis', 24.0, 28.0, 'NOP', '2016-17')\n",
      "('James Harden', 27.0, 29.1, 'HOU', '2016-17')\n",
      "('Isaiah Thomas', 28.0, 28.9, 'BOS', '2016-17')\n",
      "('Kevin Durant', 29.0, 26.4, 'GSW', '2017-18')\n",
      "('Russell Westbrook', 29.0, 25.4, 'OKC', '2017-18')\n",
      "('Damian Lillard', 27.0, 26.9, 'POR', '2017-18')\n",
      "('DeMarcus Cousins', 27.0, 25.2, 'NOP', '2017-18')\n",
      "('Anthony Davis', 25.0, 28.1, 'NOP', '2017-18')\n",
      "('James Harden', 28.0, 30.4, 'HOU', '2017-18')\n",
      "('Giannis Antetokounmpo', 23.0, 26.9, 'MIL', '2017-18')\n",
      "('Giannis Antetokounmpo', 24.0, 27.7, 'MIL', '2018-19')\n",
      "('Joel Embiid', 25.0, 27.5, 'PHI', '2018-19')\n",
      "('James Harden', 29.0, 36.1, 'HOU', '2018-19')\n",
      "('Bradley Beal', 26.0, 25.6, 'WAS', '2018-19')\n",
      "('Anthony Davis', 26.0, 25.9, 'NOP', '2018-19')\n",
      "('Devin Booker', 22.0, 26.6, 'PHX', '2018-19')\n",
      "('Damian Lillard', 28.0, 25.8, 'POR', '2018-19')\n",
      "('Paul George', 29.0, 28.0, 'OKC', '2018-19')\n",
      "('Kemba Walker', 29.0, 25.6, 'CHA', '2018-19')\n",
      "('Kawhi Leonard', 28.0, 26.6, 'TOR', '2018-19')\n",
      "('Giannis Antetokounmpo', 25.0, 29.5, 'MIL', '2019-20')\n",
      "('Kawhi Leonard', 29.0, 27.1, 'LAC', '2019-20')\n",
      "('Kyrie Irving', 28.0, 27.4, 'BKN', '2019-20')\n",
      "('Karl-Anthony Towns', 24.0, 26.5, 'MIN', '2019-20')\n",
      "('Bradley Beal', 27.0, 30.5, 'WAS', '2019-20')\n",
      "('Anthony Davis', 27.0, 26.1, 'LAL', '2019-20')\n",
      "('Devin Booker', 23.0, 26.6, 'PHX', '2019-20')\n",
      "('Damian Lillard', 29.0, 30.0, 'POR', '2019-20')\n",
      "('Zach LaVine', 25.0, 25.5, 'CHI', '2019-20')\n",
      "('Trae Young', 21.0, 29.6, 'ATL', '2019-20')\n",
      "('Luka Doncic', 21.0, 28.8, 'DAL', '2019-20')\n",
      "('Giannis Antetokounmpo', 26.0, 28.1, 'MIL', '2020-21')\n",
      "('Donovan Mitchell', 24.0, 26.4, 'UTA', '2020-21')\n",
      "('Jayson Tatum', 23.0, 26.4, 'BOS', '2020-21')\n",
      "('Joel Embiid', 27.0, 28.5, 'PHI', '2020-21')\n",
      "('Devin Booker', 24.0, 25.6, 'PHX', '2020-21')\n",
      "('Bradley Beal', 28.0, 31.3, 'WAS', '2020-21')\n",
      "('Zion Williamson', 20.0, 27.0, 'NOP', '2020-21')\n",
      "(\"De'Aaron Fox\", 23.0, 25.2, 'SAC', '2020-21')\n",
      "('Trae Young', 22.0, 25.3, 'ATL', '2020-21')\n",
      "('Zach LaVine', 26.0, 27.4, 'CHI', '2020-21')\n",
      "('Kyrie Irving', 29.0, 26.9, 'BKN', '2020-21')\n",
      "('Nikola Jokic', 26.0, 26.4, 'DEN', '2020-21')\n",
      "('Luka Doncic', 22.0, 27.7, 'DAL', '2020-21')\n",
      "('Giannis Antetokounmpo', 27.0, 29.9, 'MIL', '2021-22')\n",
      "('Devin Booker', 25.0, 26.8, 'PHX', '2021-22')\n",
      "('Donovan Mitchell', 25.0, 25.9, 'UTA', '2021-22')\n",
      "('Jayson Tatum', 24.0, 26.9, 'BOS', '2021-22')\n",
      "('Ja Morant', 22.0, 27.4, 'MEM', '2021-22')\n",
      "('Nikola Jokic', 27.0, 27.1, 'DEN', '2021-22')\n",
      "('Luka Doncic', 23.0, 28.4, 'DAL', '2021-22')\n",
      "('Joel Embiid', 28.0, 30.6, 'PHI', '2021-22')\n",
      "('Trae Young', 23.0, 28.4, 'ATL', '2021-22')\n",
      "('Zion Williamson', 22.0, 26.0, 'NOP', '2022-23')\n",
      "('Shai Gilgeous-Alexander', 24.0, 31.4, 'OKC', '2022-23')\n",
      "('Trae Young', 24.0, 26.2, 'ATL', '2022-23')\n",
      "('Devin Booker', 26.0, 27.8, 'PHX', '2022-23')\n",
      "('Donovan Mitchell', 26.0, 28.3, 'CLE', '2022-23')\n",
      "('Giannis Antetokounmpo', 28.0, 31.1, 'MIL', '2022-23')\n",
      "('Julius Randle', 28.0, 25.1, 'NYK', '2022-23')\n",
      "('Lauri Markkanen', 26.0, 25.6, 'UTA', '2022-23')\n",
      "('Luka Doncic', 24.0, 32.4, 'DAL', '2022-23')\n",
      "('Ja Morant', 23.0, 26.2, 'MEM', '2022-23')\n",
      "('Jaylen Brown', 26.0, 26.6, 'BOS', '2022-23')\n",
      "('Jayson Tatum', 25.0, 30.1, 'BOS', '2022-23')\n",
      "('Joel Embiid', 29.0, 33.1, 'PHI', '2022-23')\n"
     ]
    }
   ],
   "source": [
    "#კოდის ეს ფრაგმენტი გვაძლევს იმ მოთამაშეთა სიას რომლებიც 25 წლის ან უფრო ახალგაზრდები იყვნენ და \n",
    "#სეზონში საშუალოდ 25 ან მეტ ქულას აფიქსირებდნენ.\n",
    "query = \"\"\"\n",
    "SELECT player_name, age, pts, team_abbreviation, season\n",
    "FROM all_seasons\n",
    "WHERE age <= '25' AND pts >= '25'\n",
    "\"\"\"\n",
    "cursor.execute(query)\n",
    "rows = cursor.fetchall()\n",
    "for row in rows:\n",
    "    print(row)\n"
   ]
  },
  {
   "cell_type": "code",
   "execution_count": 21,
   "id": "0462cd51-be2e-4af3-967b-802047b9c173",
   "metadata": {},
   "outputs": [
    {
     "name": "stdin",
     "output_type": "stream",
     "text": [
      "Enter team name abbreviation:  BOS\n"
     ]
    },
    {
     "name": "stdout",
     "output_type": "stream",
     "text": [
      "('John Stockton', 14.4, 2.8, 10.5, '1996-97')\n",
      "('Mark Jackson', 9.9, 4.8, 11.4, '1996-97')\n",
      "('Rod Strickland', 17.8, 5.3, 10.5, '1997-98')\n",
      "('Antoine Walker', 22.4, 10.2, 3.3, '1997-98')\n",
      "('Jason Kidd', 16.9, 6.8, 10.8, '1998-99')\n",
      "('Jason Kidd', 14.3, 7.2, 10.1, '1999-00')\n",
      "('Andre Miller', 16.5, 4.7, 10.9, '2001-02')\n",
      "('Steve Nash', 15.5, 3.3, 11.5, '2004-05')\n",
      "('Steve Nash', 18.8, 4.2, 10.5, '2005-06')\n",
      "('Al Jefferson', 16.0, 11.0, 1.3, '2006-07')\n",
      "('Steve Nash', 18.6, 3.5, 11.6, '2006-07')\n",
      "('Deron Williams', 18.8, 3.0, 10.5, '2007-08')\n",
      "('Jason Kidd', 10.8, 7.5, 10.1, '2007-08')\n",
      "('Chris Paul', 21.1, 4.0, 11.6, '2007-08')\n",
      "('Steve Nash', 16.9, 3.5, 11.1, '2007-08')\n",
      "('Deron Williams', 19.4, 2.9, 10.7, '2008-09')\n",
      "('Chris Paul', 22.8, 5.5, 11.0, '2008-09')\n",
      "('Steve Nash', 16.5, 3.3, 11.0, '2009-10')\n",
      "('Chris Paul', 18.7, 4.2, 10.7, '2009-10')\n",
      "('Deron Williams', 18.7, 4.0, 10.5, '2009-10')\n",
      "('Deron Williams', 20.1, 4.0, 10.3, '2010-11')\n",
      "('Steve Nash', 14.7, 3.5, 11.4, '2010-11')\n",
      "('Rajon Rondo', 10.6, 4.4, 11.2, '2010-11')\n",
      "('Rajon Rondo', 11.9, 4.8, 11.7, '2011-12')\n",
      "('Steve Nash', 12.5, 3.0, 10.7, '2011-12')\n",
      "('Rajon Rondo', 13.7, 5.6, 11.1, '2012-13')\n",
      "('Chris Paul', 19.1, 4.3, 10.7, '2013-14')\n",
      "('Chris Paul', 19.1, 4.6, 10.2, '2014-15')\n",
      "('John Wall', 19.9, 4.9, 10.2, '2015-16')\n",
      "('Russell Westbrook', 23.5, 7.8, 10.4, '2015-16')\n",
      "('Rajon Rondo', 11.9, 6.0, 11.7, '2015-16')\n",
      "('Russell Westbrook', 31.6, 10.7, 10.4, '2016-17')\n",
      "('James Harden', 29.1, 8.1, 11.2, '2016-17')\n",
      "('John Wall', 23.1, 4.2, 10.7, '2016-17')\n",
      "('Russell Westbrook', 25.4, 10.1, 10.3, '2017-18')\n",
      "('Russell Westbrook', 22.9, 11.1, 10.7, '2018-19')\n",
      "('LeBron James', 25.3, 7.8, 10.2, '2019-20')\n",
      "('James Harden', 24.6, 7.9, 10.8, '2020-21')\n",
      "('Russell Westbrook', 22.2, 11.5, 11.7, '2020-21')\n",
      "('James Harden', 22.0, 7.7, 10.3, '2021-22')\n",
      "('Chris Paul', 14.7, 4.4, 10.8, '2021-22')\n",
      "('Tyrese Haliburton', 20.7, 3.7, 10.4, '2022-23')\n",
      "('Trae Young', 26.2, 3.0, 10.2, '2022-23')\n",
      "('James Harden', 21.0, 6.1, 10.7, '2022-23')\n"
     ]
    }
   ],
   "source": [
    "#კოდის ეს ფრაგმენტი გვაძლევს საშუალებას შევიყვანოთ სასურველი გუნდის აბრევიატურა და ჩამოვშალოთ იმ მოთამაშეთა სია,\n",
    "# რომლებიც ამ გუნდის მაისურით 'ორმაგ დუბლს'(10+ ორ ინდივიდუალურ სტატლაინში(მაგ:ქულა, მოხსნა...)) აფიქსირებდნენ.\n",
    "team_input = input(\"Enter team name abbreviation: \")\n",
    "query = \"SELECT player_name, pts, reb, ast, season FROM all_seasons WHERE team_abbreviation = ? AND pts > 10 AND reb > 10;\"\n",
    "cursor.execute(query, (team_input,))\n",
    "rows = cursor.fetchall()\n",
    "for row in rows:\n",
    "    print(row)\n"
   ]
  },
  {
   "cell_type": "code",
   "execution_count": 23,
   "id": "3c80b305-91d2-4c42-b157-cc77fbd7601c",
   "metadata": {},
   "outputs": [
    {
     "name": "stdin",
     "output_type": "stream",
     "text": [
      "Enter player name:  tornike gachechiladze\n",
      "Enter players team:  gsw\n",
      "Enter players age:  21\n",
      "Enter players height:  196\n",
      "Enter players weight:  96\n"
     ]
    }
   ],
   "source": [
    "#კოდის ეს ფრაგმენტი user-ს აძლევს უფლებას input-ით დაამატოს სასურველი მოთამაშე(ჩემს დატაბაზაში ზედმეტად ბევრი სტატლაინია ამიტომ მხოლოდ \n",
    "#5-ზე გავაკეთე ინფუთი). ლოგიკა იგივეა.\n",
    "player_name = input(\"Enter player name: \")\n",
    "team_abbreviation = input(\"Enter players team: \")\n",
    "age = int(input(\"Enter players age: \"))\n",
    "player_height = input(\"Enter players height: \")\n",
    "player_weight = input(\"Enter players weight: \")\n",
    "insert_query = \"\"\"\n",
    "INSERT INTO all_seasons (player_name, team_abbreviation, age, player_height, player_weight)\n",
    "VALUES (?, ?, ?, ?, ?)\n",
    "\"\"\"\n",
    "cursor.execute(insert_query, (player_name, team_abbreviation, age, player_height, player_weight))\n",
    "conn.commit()\n",
    "print(\"Player was successfully addded to database.\")"
   ]
  },
  {
   "cell_type": "code",
   "execution_count": 26,
   "id": "d09b621b-b11f-4caf-a8aa-679c8983e599",
   "metadata": {},
   "outputs": [
    {
     "name": "stdin",
     "output_type": "stream",
     "text": [
      "Enter players old team abbreviation:  WAS\n",
      "Enter players current team abbreviation:  HOU\n"
     ]
    },
    {
     "name": "stdout",
     "output_type": "stream",
     "text": [
      "Team was successfully changed.\n"
     ]
    }
   ],
   "source": [
    "#კოდის ეს ფრაგმენტი მომხმარებელს აძლევს საშუალებას შეიყვანოს მოთამაშის ძველი გუნდი ინფუთით და ჩაანაცვლოს იგი ახლით ისევ სასურველი ინფუთით.\n",
    "old_team = input(\"Enter players old team abbreviation: \")\n",
    "new_team = input(\"Enter players current team abbreviation: \")\n",
    "\n",
    "update_query = \"\"\"\n",
    "UPDATE all_seasons\n",
    "SET team_abbreviation = ?\n",
    "WHERE team_abbreviation = ?\n",
    "\"\"\"\n",
    "\n",
    "cursor.execute(update_query, (new_team, old_team))\n",
    "conn.commit()\n",
    "print(\"Team was successfully changed.\")"
   ]
  },
  {
   "cell_type": "code",
   "execution_count": 27,
   "id": "cfce1bd8-f383-474a-b9ca-c20e7ff9af6c",
   "metadata": {},
   "outputs": [
    {
     "name": "stdin",
     "output_type": "stream",
     "text": [
      "Enter players name to delete him from database:  George Lynch\n"
     ]
    },
    {
     "name": "stdout",
     "output_type": "stream",
     "text": [
      "Player was successfully deleted from database.\n"
     ]
    }
   ],
   "source": [
    "#ჩემს მიერ დაწერილი ბრძანება მომხმარებელს აძლევს საშუალებას ინფუთით შეყვანილი სასურველი მოთამაშე სრულად ამოშალოს დატაბაზიდან.\n",
    "delete_player = input(\"Enter players name to delete him from database: \")\n",
    "\n",
    "delete_query = \"\"\"\n",
    "DELETE FROM all_seasons\n",
    "WHERE player_name = ?\n",
    "\"\"\"\n",
    "cursor.execute(delete_query, (delete_player,))\n",
    "conn.commit()\n",
    "print(\"Player was successfully deleted from database.\")"
   ]
  },
  {
   "cell_type": "code",
   "execution_count": 28,
   "id": "758ed3b7-3944-4089-9a98-d9d443e71718",
   "metadata": {},
   "outputs": [
    {
     "name": "stderr",
     "output_type": "stream",
     "text": [
      "Matplotlib is building the font cache; this may take a moment.\n"
     ]
    },
    {
     "data": {
      "image/png": "[encoded data removed]",
      "text/plain": [
       "<Figure size 640x480 with 1 Axes>"
      ]
     },
     "metadata": {},
     "output_type": "display_data"
    }
   ],
   "source": [
    "#კოდის ამ ფრაგმენტით გამოგვაქვს დიაგრამის ვიზუალური ნაწილი, რომელიც გვაჩვენებს მოთამაშეთა სიმაღლის განაწილებას NBA-ში.\n",
    "import matplotlib.pyplot as plt\n",
    "\n",
    "cursor.execute(\"SELECT player_height FROM all_seasons;\")\n",
    "heights = [row[0] for row in cursor.fetchall()]\n",
    "\n",
    "plt.hist(heights, bins=15, color='skyblue')\n",
    "plt.title(\"NBA Player Height Distribution\")\n",
    "plt.xlabel(\"Height (inches)\")\n",
    "plt.ylabel(\"Frequency\")\n",
    "plt.show()\n"
   ]
  },
  {
   "cell_type": "code",
   "execution_count": 31,
   "id": "c8097044-75df-4063-ad6c-17e8cba41400",
   "metadata": {},
   "outputs": [
    {
     "data": {
      "image/png": "[encoded data removed]",
      "text/plain": [
       "<Figure size 500x500 with 1 Axes>"
      ]
     },
     "metadata": {},
     "output_type": "display_data"
    }
   ],
   "source": [
    "#კოდის ამ ფრაგმენტით ვაჩვენებთ ვიზუალურ დიაგრამას, სადაც ვხედავთ NBA-ს მოთამაშეების განაწილებას წარმოშობის მიხედვით. \n",
    "cursor.execute(\"SELECT country FROM all_seasons;\")\n",
    "countries = [row[0] for row in cursor.fetchall()]\n",
    "\n",
    "usa_count = countries.count('USA')\n",
    "canada_count = countries.count('Canada')\n",
    "rest_count = len(countries) - usa_count - canada_count\n",
    "\n",
    "labels = ['USA', 'Canada', 'Rest of the World']\n",
    "values = [usa_count, canada_count, rest_count]\n",
    "colors = ['blue', 'red', 'green']\n",
    "\n",
    "plt.figure(figsize=(5,5))\n",
    "plt.pie(values, labels=labels, autopct='%1.1f%%', startangle=140, colors=colors)\n",
    "plt.title('NBA Players by Country Group')\n",
    "\n",
    "plt.axis('equal')  \n",
    "plt.show()"
   ]
  },
  {
   "cell_type": "code",
   "execution_count": 33,
   "id": "8575bda1-bbbc-445e-aa4d-dac313228993",
   "metadata": {},
   "outputs": [
    {
     "data": {
      "image/png": "[encoded data removed]",
      "text/plain": [
       "<Figure size 1000x600 with 1 Axes>"
      ]
     },
     "metadata": {},
     "output_type": "display_data"
    }
   ],
   "source": [
    "#ეს დიაგრამა გვაჩვენებს იმ 10 კოლეჯის ჩამონათვალს, რომლებიდანაც ყველაზე მეტი მოთამაშეა NBA-ში\n",
    "from collections import Counter\n",
    "\n",
    "cursor.execute(\"SELECT college FROM all_seasons;\")\n",
    "colleges = [row[0] for row in cursor.fetchall() if row[0] and row[0].strip().lower() not in ('n/a', 'none', '')]\n",
    "college_counts = Counter(colleges)\n",
    "top_10 = college_counts.most_common(10)\n",
    "\n",
    "college_names = [item[0] for item in top_10]\n",
    "player_counts = [item[1] for item in top_10]\n",
    "\n",
    "plt.figure(figsize=(10, 6))\n",
    "plt.barh(college_names, player_counts, color='purple')\n",
    "plt.xlabel('Number of Players')\n",
    "plt.title('Top 10 Colleges by Number of NBA Players')\n",
    "plt.gca().invert_yaxis()  \n",
    "plt.tight_layout()\n",
    "plt.show()\n"
   ]
  },
  {
   "cell_type": "code",
   "execution_count": null,
   "id": "dc7f3de4-409b-4fd6-928d-b219746e8dbc",
   "metadata": {},
   "outputs": [],
   "source": []
  }
 ],
 "metadata": {
  "kernelspec": {
   "display_name": "Python 3 (ipykernel)",
   "language": "python",
   "name": "python3"
  },
  "language_info": {
   "codemirror_mode": {
    "name": "ipython",
    "version": 3
   },
   "file_extension": ".py",
   "mimetype": "text/x-python",
   "name": "python",
   "nbconvert_exporter": "python",
   "pygments_lexer": "ipython3",
   "version": "3.13.0"
  }
 },
 "nbformat": 4,
 "nbformat_minor": 5
}
